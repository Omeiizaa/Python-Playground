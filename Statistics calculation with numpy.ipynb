{
 "cells": [
  {
   "cell_type": "code",
   "execution_count": 28,
   "id": "e795efe9-5e21-4203-a21b-d5ff611d6e7f",
   "metadata": {},
   "outputs": [],
   "source": [
    "import numpy as np"
   ]
  },
  {
   "cell_type": "markdown",
   "id": "379b510a-afc4-4ece-9ecc-cb04c40f413f",
   "metadata": {},
   "source": [
    "# `calculate()` Function in `mean_var_std.py`\r\n",
    "\r\n",
    "The `calculate()` function is designed to compute various statistical metrics for a given 3x3 matrix, including the **mean**, **variance**, **standard deviation**, **maximum**, **minimum**, and **sum** along both rows and columns, as well as for the entire matrix. \r\n",
    "\r\n",
    "## Purpose\r\n",
    "This function takes a list of 9 numerical elements, converts it into a 3x3 Numpy array, and returns a dictionary containing the statistical results.\r\n",
    "\r\n",
    "## Function Details\r\n",
    "\r\n",
    "### Input\r\n",
    "- **List of Numbers**: The function expects a list containing exactly 9 numbers. \r\n",
    "- **Validation**: If the list contains fewer than 9 elements, the function raises a `ValueError` with the message, \"List must contain nine numbers.\"\r\n",
    "\r\n",
    "### Output\r\n",
    "- **Dictionary**: The function returns a dictionary with each statistical measure as a key. Each key maps to a list containing three sublists:\r\n",
    "  - Calculations along **columns** (axis 0)\r\n",
    "  - Calculations along **rows** (axis 1)\r\n",
    "  - Calculations for the **entire matrix** (flattened)\r\n",
    "\r\n",
    "### Example Usage\r\n",
    "```python\r\n",
    "calculate([0, 1, 2, 3, 4, 5, 6, 7, 8])\r\n"
   ]
  },
  {
   "cell_type": "code",
   "execution_count": 31,
   "id": "261bfaba-892a-4343-aca1-49fa72918b24",
   "metadata": {},
   "outputs": [],
   "source": [
    "def calculate(numbers):\n",
    "    \n",
    "    #Check if the input list has exactly 9 elements\n",
    "    if len(numbers) != 9:\n",
    "        raise ValueError(\"List must contain nine numbers.\")\n",
    "    \n",
    "    # Convert the list to a 3x3 numpy array\n",
    "    matrix = np.array(numbers).reshape(3,3)\n",
    "\n",
    "    #calculate statistics along both axis and for the flattened matrix \n",
    "    calculations = {\n",
    "        'mean': [\n",
    "            matrix.mean(axis=0).tolist(),      \n",
    "            matrix.mean(axis=1).tolist(),      \n",
    "            matrix.mean().tolist()             \n",
    "        ],\n",
    "        \n",
    "        'variance': [\n",
    "            matrix.var(axis=0).tolist(),       \n",
    "            matrix.var(axis=1).tolist(),       \n",
    "            matrix.var().tolist() \n",
    "        ],\n",
    "\n",
    "        'standard deviation': [\n",
    "            matrix.std(axis=0).tolist(),       \n",
    "            matrix.std(axis=1).tolist(),      \n",
    "            matrix.std().tolist()              \n",
    "        ],\n",
    "\n",
    "        'max': [\n",
    "            matrix.max(axis=0).tolist(),      \n",
    "            matrix.max(axis=1).tolist(),       \n",
    "            matrix.max().tolist()              \n",
    "        ],\n",
    "\n",
    "        'min': [\n",
    "            matrix.min(axis=0).tolist(),       \n",
    "            matrix.min(axis=1).tolist(),       \n",
    "            matrix.min().tolist()              \n",
    "        ],\n",
    "        \n",
    "        'sum': [\n",
    "            matrix.sum(axis=0).tolist(),       \n",
    "            matrix.sum(axis=1).tolist(),       \n",
    "            matrix.sum().tolist()              \n",
    "        ]\n",
    "    }\n",
    "\n",
    "    return calculations"
   ]
  },
  {
   "cell_type": "code",
   "execution_count": 33,
   "id": "adfe6187-5569-4c6c-a78f-c3bf3b92558f",
   "metadata": {},
   "outputs": [
    {
     "name": "stdout",
     "output_type": "stream",
     "text": [
      "{'mean': [[3.0, 4.0, 5.0], [1.0, 4.0, 7.0], 4.0], 'variance': [[6.0, 6.0, 6.0], [0.6666666666666666, 0.6666666666666666, 0.6666666666666666], 6.666666666666667], 'standard deviation': [[2.449489742783178, 2.449489742783178, 2.449489742783178], [0.816496580927726, 0.816496580927726, 0.816496580927726], 2.581988897471611], 'max': [[6, 7, 8], [2, 5, 8], 8], 'min': [[0, 1, 2], [0, 3, 6], 0], 'sum': [[9, 12, 15], [3, 12, 21], 36]}\n"
     ]
    }
   ],
   "source": [
    "print(calculate([0, 1, 2, 3, 4, 5, 6, 7, 8]))"
   ]
  },
  {
   "cell_type": "code",
   "execution_count": null,
   "id": "b18a84f3-d7b6-4fba-a500-a029d9d3c2b2",
   "metadata": {},
   "outputs": [],
   "source": []
  }
 ],
 "metadata": {
  "kernelspec": {
   "display_name": "Python 3 (ipykernel)",
   "language": "python",
   "name": "python3"
  },
  "language_info": {
   "codemirror_mode": {
    "name": "ipython",
    "version": 3
   },
   "file_extension": ".py",
   "mimetype": "text/x-python",
   "name": "python",
   "nbconvert_exporter": "python",
   "pygments_lexer": "ipython3",
   "version": "3.12.4"
  }
 },
 "nbformat": 4,
 "nbformat_minor": 5
}
