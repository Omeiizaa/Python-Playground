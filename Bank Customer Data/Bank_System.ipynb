{
 "cells": [
  {
   "cell_type": "code",
   "execution_count": 1,
   "id": "7c7290cc-4b00-4f05-81df-7016fca235c6",
   "metadata": {},
   "outputs": [],
   "source": [
    "Bank_database = dict()\n",
    "def Add_User():\n",
    "    while True:\n",
    "        username = input('Enter your username: ')\n",
    "        account_name = input('Enter Account Name: ')\n",
    "        account_number = int(input('Enter Account Number: '))\n",
    "        balance = float(input('Enter Account Balance Amount: '))\n",
    "        pin = int(input('Input security pin: '))\n",
    "\n",
    "        user = dict()\n",
    "        user['account_name'] = account_name\n",
    "        user['account_number'] = account_number\n",
    "        user['balance'] = balance\n",
    "        user['pin'] = pin\n",
    "\n",
    "        Bank_database[f'{username}'] =user\n",
    "        print(Bank_database.items())\n",
    "\n",
    "        res = input('Are you a new user: (y) Yes, (n) No' )\n",
    "        if res.lower() == 'y':\n",
    "            continue\n",
    "        else:\n",
    "            break\n",
    "\n",
    "#To view users and their details in the bank's database\n",
    "def View_Database():\n",
    "    for key, value in Bank_database.items():\n",
    "        print('Username:', key)\n",
    "        for x, y in value.items():\n",
    "            print({x: y})\n",
    "\n",
    "#To Withdraw\n",
    "def withdraw(username):\n",
    "    user = Bank_database[username]\n",
    "    balance = user['balance']\n",
    "    userpin = int(input('Enter your pin'))\n",
    "    if userpin == user['pin']:\n",
    "        withdrawal = float(input('Enter  amount to withdraw'))\n",
    "        if withdrawal > user['balance']:\n",
    "            print(\"Insufficient funds!!\")\n",
    "        else:\n",
    "            user['balance'] = balance - withdrawal\n",
    "            print(user['account_name'], user['balance'])\n",
    "            print(user)\n",
    "    else:\n",
    "        print(\"Pin Incorrect!!\")\n",
    "    \n",
    "#To Deposit\n",
    "def deposit(username):\n",
    "    user = Bank_database[username]\n",
    "    balance = user['balance']\n",
    "    userpin = int(input('Enter your pin'))\n",
    "    if userpin == user['pin']:\n",
    "        depositing = float(input('Enter Amount to Deposit'))\n",
    "        user['balance'] = balance + depositing\n",
    "        print(user['account_name'], user['balance'])\n",
    "        print(user)\n",
    "    else:\n",
    "        print('Incorrect Pin')\n",
    "        "
   ]
  },
  {
   "cell_type": "code",
   "execution_count": 3,
   "id": "6bef3f60-a5da-4658-8884-d12112c978a8",
   "metadata": {},
   "outputs": [],
   "source": [
    "#BELOW IS AN EXAMPLE FOR ADDING USER INFORMATION TO THE BANKING SYSTEM\n",
    "#The goal is to add 5 user. So when the 'Add_User()' is called you are required to add the new user details which is then added to \n",
    "#the banks system. You are then required to answer if you are a new user so that you can add new bank details. \n",
    "#I have added details for JOHN,MARTIN, EMI, OLIE, and DANNY"
   ]
  },
  {
   "cell_type": "code",
   "execution_count": 5,
   "id": "1a7c3fcc-1f3c-4657-9d53-4ef29b6e84fb",
   "metadata": {},
   "outputs": [
    {
     "name": "stdin",
     "output_type": "stream",
     "text": [
      "Enter your username:  John\n",
      "Enter Account Name:  John McGinn\n",
      "Enter Account Number:  46789098765789\n",
      "Enter Account Balance Amount:  4672\n",
      "Input security pin:  7648\n"
     ]
    },
    {
     "name": "stdout",
     "output_type": "stream",
     "text": [
      "dict_items([('John', {'account_name': 'John McGinn', 'account_number': 46789098765789, 'balance': 4672.0, 'pin': 7648})])\n"
     ]
    },
    {
     "name": "stdin",
     "output_type": "stream",
     "text": [
      "Are you a new user: (y) Yes, (n) No y\n",
      "Enter your username:  Martin\n",
      "Enter Account Name:  Martin Cash\n",
      "Enter Account Number:  545678909890987\n",
      "Enter Account Balance Amount:  56789\n",
      "Input security pin:  2348\n"
     ]
    },
    {
     "name": "stdout",
     "output_type": "stream",
     "text": [
      "dict_items([('John', {'account_name': 'John McGinn', 'account_number': 46789098765789, 'balance': 4672.0, 'pin': 7648}), ('Martin', {'account_name': 'Martin Cash', 'account_number': 545678909890987, 'balance': 56789.0, 'pin': 2348})])\n"
     ]
    },
    {
     "name": "stdin",
     "output_type": "stream",
     "text": [
      "Are you a new user: (y) Yes, (n) No y\n",
      "Enter your username:  Emi\n",
      "Enter Account Name:  Emi Martinez\n",
      "Enter Account Number:  5667389098767988\n",
      "Enter Account Balance Amount:  552768\n",
      "Input security pin:  3245\n"
     ]
    },
    {
     "name": "stdout",
     "output_type": "stream",
     "text": [
      "dict_items([('John', {'account_name': 'John McGinn', 'account_number': 46789098765789, 'balance': 4672.0, 'pin': 7648}), ('Martin', {'account_name': 'Martin Cash', 'account_number': 545678909890987, 'balance': 56789.0, 'pin': 2348}), ('Emi', {'account_name': 'Emi Martinez', 'account_number': 5667389098767988, 'balance': 552768.0, 'pin': 3245})])\n"
     ]
    },
    {
     "name": "stdin",
     "output_type": "stream",
     "text": [
      "Are you a new user: (y) Yes, (n) No y\n",
      "Enter your username:  Olie\n",
      "Enter Account Name:  Olie Watkins\n",
      "Enter Account Number:  5678945678902345\n",
      "Enter Account Balance Amount:  43567823\n",
      "Input security pin:  4637\n"
     ]
    },
    {
     "name": "stdout",
     "output_type": "stream",
     "text": [
      "dict_items([('John', {'account_name': 'John McGinn', 'account_number': 46789098765789, 'balance': 4672.0, 'pin': 7648}), ('Martin', {'account_name': 'Martin Cash', 'account_number': 545678909890987, 'balance': 56789.0, 'pin': 2348}), ('Emi', {'account_name': 'Emi Martinez', 'account_number': 5667389098767988, 'balance': 552768.0, 'pin': 3245}), ('Olie', {'account_name': 'Olie Watkins', 'account_number': 5678945678902345, 'balance': 43567823.0, 'pin': 4637})])\n"
     ]
    },
    {
     "name": "stdin",
     "output_type": "stream",
     "text": [
      "Are you a new user: (y) Yes, (n) No y\n",
      "Enter your username:  Danny\n",
      "Enter Account Name:  Danny Olmo\n",
      "Enter Account Number:  3445687903567\n",
      "Enter Account Balance Amount:  2478\n",
      "Input security pin:  4678\n"
     ]
    },
    {
     "name": "stdout",
     "output_type": "stream",
     "text": [
      "dict_items([('John', {'account_name': 'John McGinn', 'account_number': 46789098765789, 'balance': 4672.0, 'pin': 7648}), ('Martin', {'account_name': 'Martin Cash', 'account_number': 545678909890987, 'balance': 56789.0, 'pin': 2348}), ('Emi', {'account_name': 'Emi Martinez', 'account_number': 5667389098767988, 'balance': 552768.0, 'pin': 3245}), ('Olie', {'account_name': 'Olie Watkins', 'account_number': 5678945678902345, 'balance': 43567823.0, 'pin': 4637}), ('Danny', {'account_name': 'Danny Olmo', 'account_number': 3445687903567, 'balance': 2478.0, 'pin': 4678})])\n"
     ]
    },
    {
     "name": "stdin",
     "output_type": "stream",
     "text": [
      "Are you a new user: (y) Yes, (n) No n\n"
     ]
    }
   ],
   "source": [
    "Add_User()"
   ]
  },
  {
   "cell_type": "code",
   "execution_count": 7,
   "id": "349a0bdc-7929-48f4-b52b-a0c81d960063",
   "metadata": {},
   "outputs": [],
   "source": [
    "#WE CAN THEN SEE THE BANKS DATABASE AS SEEN BELOW"
   ]
  },
  {
   "cell_type": "code",
   "execution_count": 9,
   "id": "726eedde-4052-4cb0-b0fd-617266512999",
   "metadata": {},
   "outputs": [
    {
     "name": "stdout",
     "output_type": "stream",
     "text": [
      "Username: John\n",
      "{'account_name': 'John McGinn'}\n",
      "{'account_number': 46789098765789}\n",
      "{'balance': 4672.0}\n",
      "{'pin': 7648}\n",
      "Username: Martin\n",
      "{'account_name': 'Martin Cash'}\n",
      "{'account_number': 545678909890987}\n",
      "{'balance': 56789.0}\n",
      "{'pin': 2348}\n",
      "Username: Emi\n",
      "{'account_name': 'Emi Martinez'}\n",
      "{'account_number': 5667389098767988}\n",
      "{'balance': 552768.0}\n",
      "{'pin': 3245}\n",
      "Username: Olie\n",
      "{'account_name': 'Olie Watkins'}\n",
      "{'account_number': 5678945678902345}\n",
      "{'balance': 43567823.0}\n",
      "{'pin': 4637}\n",
      "Username: Danny\n",
      "{'account_name': 'Danny Olmo'}\n",
      "{'account_number': 3445687903567}\n",
      "{'balance': 2478.0}\n",
      "{'pin': 4678}\n"
     ]
    }
   ],
   "source": [
    "View_Database()"
   ]
  },
  {
   "cell_type": "code",
   "execution_count": 11,
   "id": "1b2ac43f-eb93-49fd-96ea-43622ba38a18",
   "metadata": {},
   "outputs": [],
   "source": [
    "#BELOW IS AN EXAMPLE OF WITHDRAWING MONEY FROM A USERS ACCOUNT(we used Danny for this example)"
   ]
  },
  {
   "cell_type": "code",
   "execution_count": 13,
   "id": "cda20b2e-5602-4405-aeca-a03d8b189db0",
   "metadata": {},
   "outputs": [
    {
     "name": "stdin",
     "output_type": "stream",
     "text": [
      "Enter your pin 4678\n",
      "Enter  amount to withdraw 678\n"
     ]
    },
    {
     "name": "stdout",
     "output_type": "stream",
     "text": [
      "Danny Olmo 1800.0\n",
      "{'account_name': 'Danny Olmo', 'account_number': 3445687903567, 'balance': 1800.0, 'pin': 4678}\n"
     ]
    }
   ],
   "source": [
    "withdraw('Danny')"
   ]
  },
  {
   "cell_type": "code",
   "execution_count": 15,
   "id": "639c01cd-efd1-4b14-8ad2-6174eca79944",
   "metadata": {},
   "outputs": [],
   "source": [
    "#Notice how the new balance of Danny is now 1800"
   ]
  },
  {
   "cell_type": "code",
   "execution_count": 17,
   "id": "b5dd1226-492d-40ae-ad6d-d7bbe9c610aa",
   "metadata": {},
   "outputs": [],
   "source": [
    "#BELOW IS AN EXAMPLE OF DEPOSITING MONEY TO AN ACCOUNT (Danny is used again)"
   ]
  },
  {
   "cell_type": "code",
   "execution_count": 19,
   "id": "c015cd33-5087-4030-b763-6caae5b505d3",
   "metadata": {},
   "outputs": [
    {
     "name": "stdin",
     "output_type": "stream",
     "text": [
      "Enter your pin 4678\n",
      "Enter Amount to Deposit 1200\n"
     ]
    },
    {
     "name": "stdout",
     "output_type": "stream",
     "text": [
      "Danny Olmo 3000.0\n",
      "{'account_name': 'Danny Olmo', 'account_number': 3445687903567, 'balance': 3000.0, 'pin': 4678}\n"
     ]
    }
   ],
   "source": [
    "deposit('Danny')"
   ]
  },
  {
   "cell_type": "code",
   "execution_count": null,
   "id": "315fc45b-3a10-4824-991b-f4fa5f2e3d74",
   "metadata": {},
   "outputs": [],
   "source": []
  }
 ],
 "metadata": {
  "kernelspec": {
   "display_name": "Python 3 (ipykernel)",
   "language": "python",
   "name": "python3"
  },
  "language_info": {
   "codemirror_mode": {
    "name": "ipython",
    "version": 3
   },
   "file_extension": ".py",
   "mimetype": "text/x-python",
   "name": "python",
   "nbconvert_exporter": "python",
   "pygments_lexer": "ipython3",
   "version": "3.12.4"
  }
 },
 "nbformat": 4,
 "nbformat_minor": 5
}
